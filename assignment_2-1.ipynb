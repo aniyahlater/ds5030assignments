{
 "cells": [
  {
   "cell_type": "markdown",
   "id": "87b91d83",
   "metadata": {},
   "source": [
    "# Assignment 2\n",
    "### Understanding Uncertainty\n",
    "### Due 9/12"
   ]
  },
  {
   "cell_type": "code",
   "execution_count": 32,
   "id": "9fc5f8d4",
   "metadata": {},
   "outputs": [],
   "source": [
    "import numpy as np \n",
    "import matplotlib.pyplot as plt\n",
    "import seaborn as sns"
   ]
  },
  {
   "cell_type": "markdown",
   "id": "380e339f",
   "metadata": {},
   "source": [
    "1. 'State Bottle Retail' is the price at which the bottle is sold, while 'State Bottle Cost' is the price the state pays for a bottle.\n",
    "- How do you define the most profitable item? Why? Explain your thinking.\n",
    "- Use `.groupby` calculations to determine the most profitable liquors sold in Iowa.\n",
    "- Make a plot of the top liquors."
   ]
  },
  {
   "cell_type": "code",
   "execution_count": null,
   "id": "9a16f9db",
   "metadata": {},
   "outputs": [],
   "source": []
  },
  {
   "cell_type": "markdown",
   "id": "63593bde",
   "metadata": {},
   "source": [
    "2. This question is to further explore broadcasting in NumPy.\n",
    "\n",
    "- In the first code chunk below, there are two vectors, $x$ and $y$. What happens when you try to subtract them?\n",
    "- Instead, try `x.reshape(-1,1)-y.reshape(1,-1)`. What do you get?\n",
    "- Try `x.reshape(1,-1)-y.reshape(-1,1)`. Compare the results to your previous answer.\n",
    "- Write two double for-loops to replicate the results of the previous two answers. \n",
    "- Clearly explain how `x.reshape(1,-1)` and `x.reshape(-1,1)` change $x$"
   ]
  },
  {
   "cell_type": "code",
   "execution_count": 1,
   "id": "e29b3aac",
   "metadata": {},
   "outputs": [
    {
     "name": "stdout",
     "output_type": "stream",
     "text": [
      "[1 3 5]\n",
      "[2 5]\n",
      "---------------------------------\n"
     ]
    },
    {
     "ename": "ValueError",
     "evalue": "operands could not be broadcast together with shapes (2,) (3,) ",
     "output_type": "error",
     "traceback": [
      "\u001b[31m---------------------------------------------------------------------------\u001b[39m",
      "\u001b[31mValueError\u001b[39m                                Traceback (most recent call last)",
      "\u001b[36mCell\u001b[39m\u001b[36m \u001b[39m\u001b[32mIn[1]\u001b[39m\u001b[32m, line 11\u001b[39m\n\u001b[32m      7\u001b[39m \u001b[38;5;28mprint\u001b[39m(y)\n\u001b[32m      9\u001b[39m \u001b[38;5;28mprint\u001b[39m(\u001b[33m\"\u001b[39m\u001b[33m---------------------------------\u001b[39m\u001b[33m\"\u001b[39m)\n\u001b[32m---> \u001b[39m\u001b[32m11\u001b[39m sub = \u001b[43my\u001b[49m\u001b[43m \u001b[49m\u001b[43m-\u001b[49m\u001b[43m \u001b[49m\u001b[43mx\u001b[49m\n\u001b[32m     12\u001b[39m \u001b[38;5;28mprint\u001b[39m(sub)\n",
      "\u001b[31mValueError\u001b[39m: operands could not be broadcast together with shapes (2,) (3,) "
     ]
    }
   ],
   "source": [
    "import numpy as np\n",
    "\n",
    "x = np.array([1,3,5])\n",
    "y = np.array([2,5])\n",
    "\n",
    "print(x)\n",
    "print(y)\n",
    "\n",
    "print(\"---------------------------------\")\n",
    "\n",
    "sub = y - x\n",
    "print(sub)"
   ]
  },
  {
   "cell_type": "markdown",
   "id": "e9b7cc07",
   "metadata": {},
   "source": [
    "When trying to subtract the two arrays before reshaping them, you get a ValueError that states, \"operands could notbe broadcast together with shapes (2,) (3,). This error occurs because the vectors are two different lengths. "
   ]
  },
  {
   "cell_type": "code",
   "execution_count": 3,
   "id": "48ebc0c4",
   "metadata": {},
   "outputs": [
    {
     "name": "stdout",
     "output_type": "stream",
     "text": [
      "[[1]\n",
      " [3]\n",
      " [5]]\n",
      "[[2 5]]\n",
      "--------------------\n",
      "[[-1 -4]\n",
      " [ 1 -2]\n",
      " [ 3  0]]\n"
     ]
    }
   ],
   "source": [
    "x2 = x.reshape(-1,1)\n",
    "y2 = y.reshape(1,-1)\n",
    "print(x2)\n",
    "print(y2)\n",
    "print(\"--------------------\")\n",
    "sub2 = x2 - y2\n",
    "print(sub2)"
   ]
  },
  {
   "cell_type": "markdown",
   "id": "b4a55803",
   "metadata": {},
   "source": [
    "After reshaping the x and y vectors, the output is a 3x2 matrix that is the result of subtracting the y vector from the x vector."
   ]
  },
  {
   "cell_type": "code",
   "execution_count": 4,
   "id": "b962e7aa",
   "metadata": {},
   "outputs": [
    {
     "name": "stdout",
     "output_type": "stream",
     "text": [
      "[[1 3 5]]\n",
      "--------------------\n",
      "[[2]\n",
      " [5]]\n",
      "--------------------\n",
      "[[-1  1  3]\n",
      " [-4 -2  0]]\n"
     ]
    }
   ],
   "source": [
    "x3 = x.reshape(1,-1)\n",
    "y3 = y.reshape(-1,1)\n",
    "print(x3)\n",
    "print(\"--------------------\")\n",
    "print(y3)\n",
    "print(\"--------------------\")\n",
    "sub3 = x3 - y3\n",
    "print(sub3)"
   ]
  },
  {
   "cell_type": "markdown",
   "id": "7cc1a8bd",
   "metadata": {},
   "source": [
    "The output after reshaping the two vectors is a 2x3 matrix"
   ]
  },
  {
   "cell_type": "code",
   "execution_count": null,
   "id": "0d43036f",
   "metadata": {},
   "outputs": [
    {
     "name": "stdout",
     "output_type": "stream",
     "text": [
      "[[1, 3, 5]]\n"
     ]
    }
   ],
   "source": [
    "# link: https://stackoverflow.com/questions/9165374/write-code-that-does-the-same-like-numpys-reshape\n",
    "# writing two for double loops for first example -  want to reshape the first array to only one column and the second to only have one row\n",
    "x = np.array([1,3,5])\n",
    "# the following for loop will reshape the array to be a singular row a 1x3 matrix\n",
    "reshaped = []\n",
    "row = []\n",
    "for i in range(1):\n",
    "    for j in range(3):\n",
    "        row.append(int(x[j]))\n",
    "    reshaped.append(row)\n",
    "print(reshaped)"
   ]
  },
  {
   "cell_type": "code",
   "execution_count": null,
   "id": "bd2a4fd9",
   "metadata": {},
   "outputs": [
    {
     "name": "stdout",
     "output_type": "stream",
     "text": [
      "[[1, 1, 1], [1, 1, 1], [1, 1, 1]]\n"
     ]
    }
   ],
   "source": [
    "x = np.array([1,3,5])\n",
    "# the following for loop will reshape the array to be a singular row a 1x3 matrix\n",
    "reshaped2 = []\n",
    "row2 = []\n",
    "for i in range(3):\n",
    "    for j in range(1):\n",
    "        row2.append(int(x[j]))\n",
    "    reshaped2.append(row2)\n",
    "print(reshaped2)\n",
    "# COME BACK AND FINISH"
   ]
  },
  {
   "cell_type": "markdown",
   "id": "b29f1d35",
   "metadata": {},
   "source": [
    "3. The indicator function $\\mathbb{I}\\{ x \\le z \\}$ takes the value 0 if $x>z$ and 1 if $x \\le z$ is true, or\n",
    "$$\n",
    "\\mathbb{I}\\{x \\le z\\} = \\begin{cases}\n",
    "0, &x > z \\\\\n",
    "1, &x \\le z\n",
    "\\end{cases}\n",
    "$$\n",
    "\n",
    "- For $x = 3$, plot the indicator function for any $z$\n",
    "- Explain how $ 1- \\mathbb{I}\\{ x \\le z \\} = \\mathbb{I}\\{ x > z \\}$. Drawing a plot might help, or looking at the definition given above.\n",
    "- The code below generates a random sample for different numbers of observations, $N = 3, 30, 300, 3000 $. Write a function to compute the ECDF curve for each sample, and plot your results.\n",
    "- Describe in your own words what happens to the ECDF qualitatively as the sample size $N$ increases"
   ]
  },
  {
   "cell_type": "code",
   "execution_count": null,
   "id": "019ba42c",
   "metadata": {},
   "outputs": [
    {
     "name": "stdout",
     "output_type": "stream",
     "text": [
      "[ 0  2  5  7 10]\n",
      "[0, 0, 1, 1, 1]\n"
     ]
    },
    {
     "data": {
      "image/png": "[encoded data removed]",
      "text/plain": [
       "<Figure size 640x480 with 1 Axes>"
      ]
     },
     "metadata": {},
     "output_type": "display_data"
    }
   ],
   "source": [
    "# plotting the indicator function\n",
    "data = np.linspace(0, 10, 5, dtype=int)\n",
    "print(data)\n",
    "\n",
    "def indicator_function(input_data, threshold):\n",
    "    indicators = []\n",
    "    for z in input_data:\n",
    "        if z >= threshold:\n",
    "            indicators.append(1)\n",
    "        else:\n",
    "            indicators.append(0)\n",
    "    return indicators\n",
    "    \n",
    "\n",
    "idk = indicator_function(data,3)\n",
    "print(idk)\n",
    "        \n",
    "# okay now i need to plot the output\n",
    "\n",
    "# Plot\n",
    "plt.plot(idk, color='blue')\n",
    "plt.show()\n",
    "\n",
    "\n",
    "# NEED TO WORK ON THE X AXIS\n"
   ]
  },
  {
   "cell_type": "markdown",
   "id": "c2462dab",
   "metadata": {},
   "source": [
    "$ 1- \\mathbb{I}\\{ x \\le z \\} = \\mathbb{I}\\{ x > z \\}$ is true because of how the indicator function operates. The variable Z in the operator function can be thought of as the data that is being evaluated, while x is the threshold that the data is being compared to. The act"
   ]
  },
  {
   "cell_type": "markdown",
   "id": "6c8f1ebb",
   "metadata": {},
   "source": [
    "4. A **quantile** generalizes the concept of the median so that instead of 50% of the mass below and 50% above, the $q$-quantile is the value for which $q$ proportion of the data are below that value and $(1-q)$ proportion of the data are above that value. This is a concept of **order**.\n",
    "\n",
    "- Write a function that computes any quantile without using Numpy's `np.quantile`\n",
    "- Write a function that computes the **Interquartile Range (IQR)** -- the .25 quantile and the .75 quantile, which brackets 50% of the data -- and the **whiskers**: $\\pm 1.5 \\times \\text{IQR}$ from the edges of the IQR\n",
    "- Write a function that computes a five-number summary and values for a boxplot: the minimum, the .25 quantile, the median, the .75 quantile, and the maximum, and the whiskers\n",
    "- Anything outside the whiskers is an **outlier**; write a function that returns a Boolean vector indicating if the observations are outliers.\n",
    "- For a numeric variable of your choice from one of the datasets, apply your functions from above, and compare your answers with `sns.boxplot` and `df.describe`. "
   ]
  },
  {
   "cell_type": "markdown",
   "id": "99f4c407",
   "metadata": {},
   "source": [
    "5. The kernel density estimator captures the concentration of the data around various points, and is defined as\n",
    "$$\n",
    "\\hat{f}_{N,h}(z) = \\frac{1}{N} \\sum_{i=1}^N \\frac{1}{h} k \\left( \\frac{x_i - z}{h}\\right)\n",
    "$$\n",
    "where $h$ is the bandwidth and $k()$ is one of the kernel functions from the class materials (Gaussian, Epanechnikov, uniform, triangular).\n",
    "\n",
    "- Write a function that takes the bandwidth $h$ as given, and computes and plots $\\hat{f}_{N,h}(z)$, for the kernels listed in the slides\n",
    "- Write a function that computes the plug-in bandwidth\n",
    "- Use your functions to analyze some numeric variables from a dataset of your choice, using a variety of bandwidths\n",
    "- Compare bandwidths that are greater or less than the plug-in value with the results for the plug-in value. When does the KDE appear to be overfitting? Underfitting?"
   ]
  }
 ],
 "metadata": {
  "kernelspec": {
   "display_name": "base",
   "language": "python",
   "name": "python3"
  },
  "language_info": {
   "codemirror_mode": {
    "name": "ipython",
    "version": 3
   },
   "file_extension": ".py",
   "mimetype": "text/x-python",
   "name": "python",
   "nbconvert_exporter": "python",
   "pygments_lexer": "ipython3",
   "version": "3.13.5"
  }
 },
 "nbformat": 4,
 "nbformat_minor": 5
}
