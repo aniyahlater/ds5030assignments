{
 "cells": [
  {
   "cell_type": "markdown",
   "id": "87b91d83",
   "metadata": {},
   "source": [
    "# Assignment 2\n",
    "### Understanding Uncertainty\n",
    "### Due 9/12"
   ]
  },
  {
   "cell_type": "markdown",
   "id": "dfe684c8",
   "metadata": {},
   "source": [
    "## Question 1"
   ]
  },
  {
   "cell_type": "markdown",
   "id": "380e339f",
   "metadata": {},
   "source": [
    "1. 'State Bottle Retail' is the price at which the bottle is sold, while 'State Bottle Cost' is the price the state pays for a bottle.\n",
    "- How do you define the most profitable item? Why? Explain your thinking.\n",
    "- Use `.groupby` calculations to determine the most profitable liquors sold in Iowa.\n",
    "- Make a plot of the top liquors."
   ]
  },
  {
   "cell_type": "markdown",
   "id": "9297191c",
   "metadata": {},
   "source": [
    "I would define the most profitable item as an item that is being bought in high quanitities but also making up a great proportion of total sales. Initially, I also wanted to include how much mL of the product is being bought but opted to dropping that out when looking at profitablility in strictly monetary terms. Additionally, mL could be misleading, individuals are buying more mL but because they might purchase the item less (due to more product), the profitability might not reach its full potential. Moving forward, I think looking at the quantity in which it is being purchased (how often are Iowa residents purchasing it) and its proportion in total sales captures how the products influence is better spread out amongst the Iowa population. How often it is being purchased captures frequency while its proportion in total sales captures it dominance throughout the market.\n",
    "\n",
    "most pro\n",
    "(retail - cost) * bottles sold"
   ]
  },
  {
   "cell_type": "code",
   "execution_count": 1,
   "id": "db2a9919",
   "metadata": {},
   "outputs": [
    {
     "data": {
      "text/html": [
       "<div>\n",
       "<style scoped>\n",
       "    .dataframe tbody tr th:only-of-type {\n",
       "        vertical-align: middle;\n",
       "    }\n",
       "\n",
       "    .dataframe tbody tr th {\n",
       "        vertical-align: top;\n",
       "    }\n",
       "\n",
       "    .dataframe thead th {\n",
       "        text-align: right;\n",
       "    }\n",
       "</style>\n",
       "<table border=\"1\" class=\"dataframe\">\n",
       "  <thead>\n",
       "    <tr style=\"text-align: right;\">\n",
       "      <th></th>\n",
       "      <th>Invoice/Item Number</th>\n",
       "      <th>Date</th>\n",
       "      <th>Store Number</th>\n",
       "      <th>Store Name</th>\n",
       "      <th>Zip Code</th>\n",
       "      <th>Category Name</th>\n",
       "      <th>Vendor Name</th>\n",
       "      <th>Item Number</th>\n",
       "      <th>Item Description</th>\n",
       "      <th>Bottle Volume (ml)</th>\n",
       "      <th>State Bottle Cost</th>\n",
       "      <th>State Bottle Retail</th>\n",
       "      <th>Bottles Sold</th>\n",
       "      <th>Sale (Dollars)</th>\n",
       "    </tr>\n",
       "  </thead>\n",
       "  <tbody>\n",
       "    <tr>\n",
       "      <th>0</th>\n",
       "      <td>INV-59108400026</td>\n",
       "      <td>06/06/2023</td>\n",
       "      <td>3723</td>\n",
       "      <td>J D SPIRITS LIQUOR</td>\n",
       "      <td>51040</td>\n",
       "      <td>STRAIGHT RYE WHISKIES</td>\n",
       "      <td>INFINIUM SPIRITS</td>\n",
       "      <td>27102</td>\n",
       "      <td>TEMPLETON RYE 4YR</td>\n",
       "      <td>750</td>\n",
       "      <td>18.09</td>\n",
       "      <td>27.14</td>\n",
       "      <td>2</td>\n",
       "      <td>54.28</td>\n",
       "    </tr>\n",
       "    <tr>\n",
       "      <th>1</th>\n",
       "      <td>S16879800057</td>\n",
       "      <td>01/16/2014</td>\n",
       "      <td>3926</td>\n",
       "      <td>LIQUOR DOWNTOWN / IOWA CITY</td>\n",
       "      <td>52240</td>\n",
       "      <td>VODKA 80 PROOF</td>\n",
       "      <td>HEAVEN HILL BRANDS</td>\n",
       "      <td>35416</td>\n",
       "      <td>BURNETT'S VODKA 80 PRF</td>\n",
       "      <td>750</td>\n",
       "      <td>4.84</td>\n",
       "      <td>7.26</td>\n",
       "      <td>12</td>\n",
       "      <td>87.12</td>\n",
       "    </tr>\n",
       "    <tr>\n",
       "      <th>2</th>\n",
       "      <td>INV-05301100019</td>\n",
       "      <td>06/05/2017</td>\n",
       "      <td>3829</td>\n",
       "      <td>GARY'S FOODS / MT VERNON</td>\n",
       "      <td>52314</td>\n",
       "      <td>CANADIAN WHISKIES</td>\n",
       "      <td>DIAGEO AMERICAS</td>\n",
       "      <td>11296</td>\n",
       "      <td>CROWN ROYAL</td>\n",
       "      <td>750</td>\n",
       "      <td>15.59</td>\n",
       "      <td>23.39</td>\n",
       "      <td>6</td>\n",
       "      <td>135.66</td>\n",
       "    </tr>\n",
       "    <tr>\n",
       "      <th>3</th>\n",
       "      <td>INV-40973500083</td>\n",
       "      <td>10/14/2021</td>\n",
       "      <td>5102</td>\n",
       "      <td>WILKIE LIQUORS</td>\n",
       "      <td>52314</td>\n",
       "      <td>AMERICAN SCHNAPPS</td>\n",
       "      <td>JIM BEAM BRANDS</td>\n",
       "      <td>82787</td>\n",
       "      <td>DEKUYPER BUTTERSHOTS</td>\n",
       "      <td>1000</td>\n",
       "      <td>7.87</td>\n",
       "      <td>11.81</td>\n",
       "      <td>12</td>\n",
       "      <td>141.72</td>\n",
       "    </tr>\n",
       "    <tr>\n",
       "      <th>4</th>\n",
       "      <td>INV-17022500013</td>\n",
       "      <td>01/18/2019</td>\n",
       "      <td>2560</td>\n",
       "      <td>HY-VEE FOOD STORE / MARION</td>\n",
       "      <td>52302</td>\n",
       "      <td>WHISKEY LIQUEUR</td>\n",
       "      <td>SAZERAC COMPANY  INC</td>\n",
       "      <td>64863</td>\n",
       "      <td>FIREBALL CINNAMON WHISKEY</td>\n",
       "      <td>200</td>\n",
       "      <td>2.50</td>\n",
       "      <td>3.75</td>\n",
       "      <td>12</td>\n",
       "      <td>45.00</td>\n",
       "    </tr>\n",
       "    <tr>\n",
       "      <th>...</th>\n",
       "      <td>...</td>\n",
       "      <td>...</td>\n",
       "      <td>...</td>\n",
       "      <td>...</td>\n",
       "      <td>...</td>\n",
       "      <td>...</td>\n",
       "      <td>...</td>\n",
       "      <td>...</td>\n",
       "      <td>...</td>\n",
       "      <td>...</td>\n",
       "      <td>...</td>\n",
       "      <td>...</td>\n",
       "      <td>...</td>\n",
       "      <td>...</td>\n",
       "    </tr>\n",
       "    <tr>\n",
       "      <th>159899</th>\n",
       "      <td>INV-20689000058</td>\n",
       "      <td>07/17/2019</td>\n",
       "      <td>2565</td>\n",
       "      <td>HY-VEE FOOD STORE #1636 / SPENCER</td>\n",
       "      <td>51301</td>\n",
       "      <td>AMERICAN CORDIALS &amp; LIQUEURS</td>\n",
       "      <td>LUXCO INC</td>\n",
       "      <td>76488</td>\n",
       "      <td>PARAMOUNT AMARETTO</td>\n",
       "      <td>1750</td>\n",
       "      <td>8.07</td>\n",
       "      <td>12.11</td>\n",
       "      <td>6</td>\n",
       "      <td>72.66</td>\n",
       "    </tr>\n",
       "    <tr>\n",
       "      <th>159900</th>\n",
       "      <td>S05071400061</td>\n",
       "      <td>04/16/2012</td>\n",
       "      <td>3583</td>\n",
       "      <td>MAC'S LIQUOR AND VIDEOS</td>\n",
       "      <td>50060</td>\n",
       "      <td>COFFEE LIQUEURS</td>\n",
       "      <td>PERNOD RICARD USA/AUSTIN NICHOLS</td>\n",
       "      <td>67527</td>\n",
       "      <td>KAHLUA COFFEE LIQUEUR</td>\n",
       "      <td>1000</td>\n",
       "      <td>14.81</td>\n",
       "      <td>22.22</td>\n",
       "      <td>1</td>\n",
       "      <td>22.22</td>\n",
       "    </tr>\n",
       "    <tr>\n",
       "      <th>159901</th>\n",
       "      <td>INV-22880300009</td>\n",
       "      <td>10/29/2019</td>\n",
       "      <td>3896</td>\n",
       "      <td>SMOKIN' JOE'S #18 TOBACCO AND LIQUOR OUTLET</td>\n",
       "      <td>52240</td>\n",
       "      <td>IMPORTED DRY GINS</td>\n",
       "      <td>DIAGEO AMERICAS</td>\n",
       "      <td>28866</td>\n",
       "      <td>TANQUERAY GIN</td>\n",
       "      <td>750</td>\n",
       "      <td>13.50</td>\n",
       "      <td>20.25</td>\n",
       "      <td>2</td>\n",
       "      <td>40.50</td>\n",
       "    </tr>\n",
       "    <tr>\n",
       "      <th>159902</th>\n",
       "      <td>INV-58180900067</td>\n",
       "      <td>05/05/2023</td>\n",
       "      <td>4057</td>\n",
       "      <td>TEQUILA'S LIQUOR STORE</td>\n",
       "      <td>50316</td>\n",
       "      <td>NEUTRAL GRAIN SPIRITS FLAVORED</td>\n",
       "      <td>OLE SMOKY DISTILLERY LLC</td>\n",
       "      <td>80363</td>\n",
       "      <td>OLE SMOKY BANANA PUDDING CREAM MOONSHINE</td>\n",
       "      <td>750</td>\n",
       "      <td>13.00</td>\n",
       "      <td>19.50</td>\n",
       "      <td>3</td>\n",
       "      <td>58.50</td>\n",
       "    </tr>\n",
       "    <tr>\n",
       "      <th>159903</th>\n",
       "      <td>INV-64335600006</td>\n",
       "      <td>11/16/2023</td>\n",
       "      <td>5371</td>\n",
       "      <td>STATE FOOD MART</td>\n",
       "      <td>52722</td>\n",
       "      <td>STRAIGHT BOURBON WHISKIES</td>\n",
       "      <td>JIM BEAM BRANDS</td>\n",
       "      <td>20116</td>\n",
       "      <td>OLD GRAND DAD 114PRF</td>\n",
       "      <td>750</td>\n",
       "      <td>13.84</td>\n",
       "      <td>20.76</td>\n",
       "      <td>3</td>\n",
       "      <td>62.28</td>\n",
       "    </tr>\n",
       "  </tbody>\n",
       "</table>\n",
       "<p>159904 rows × 14 columns</p>\n",
       "</div>"
      ],
      "text/plain": [
       "       Invoice/Item Number        Date  Store Number  \\\n",
       "0          INV-59108400026  06/06/2023          3723   \n",
       "1             S16879800057  01/16/2014          3926   \n",
       "2          INV-05301100019  06/05/2017          3829   \n",
       "3          INV-40973500083  10/14/2021          5102   \n",
       "4          INV-17022500013  01/18/2019          2560   \n",
       "...                    ...         ...           ...   \n",
       "159899     INV-20689000058  07/17/2019          2565   \n",
       "159900        S05071400061  04/16/2012          3583   \n",
       "159901     INV-22880300009  10/29/2019          3896   \n",
       "159902     INV-58180900067  05/05/2023          4057   \n",
       "159903     INV-64335600006  11/16/2023          5371   \n",
       "\n",
       "                                         Store Name Zip Code  \\\n",
       "0                                J D SPIRITS LIQUOR    51040   \n",
       "1                       LIQUOR DOWNTOWN / IOWA CITY    52240   \n",
       "2                          GARY'S FOODS / MT VERNON    52314   \n",
       "3                                    WILKIE LIQUORS    52314   \n",
       "4                        HY-VEE FOOD STORE / MARION    52302   \n",
       "...                                             ...      ...   \n",
       "159899            HY-VEE FOOD STORE #1636 / SPENCER    51301   \n",
       "159900                      MAC'S LIQUOR AND VIDEOS    50060   \n",
       "159901  SMOKIN' JOE'S #18 TOBACCO AND LIQUOR OUTLET    52240   \n",
       "159902                       TEQUILA'S LIQUOR STORE    50316   \n",
       "159903                              STATE FOOD MART    52722   \n",
       "\n",
       "                         Category Name                       Vendor Name  \\\n",
       "0                STRAIGHT RYE WHISKIES                  INFINIUM SPIRITS   \n",
       "1                       VODKA 80 PROOF                HEAVEN HILL BRANDS   \n",
       "2                    CANADIAN WHISKIES                   DIAGEO AMERICAS   \n",
       "3                    AMERICAN SCHNAPPS                   JIM BEAM BRANDS   \n",
       "4                      WHISKEY LIQUEUR              SAZERAC COMPANY  INC   \n",
       "...                                ...                               ...   \n",
       "159899    AMERICAN CORDIALS & LIQUEURS                         LUXCO INC   \n",
       "159900                 COFFEE LIQUEURS  PERNOD RICARD USA/AUSTIN NICHOLS   \n",
       "159901               IMPORTED DRY GINS                   DIAGEO AMERICAS   \n",
       "159902  NEUTRAL GRAIN SPIRITS FLAVORED          OLE SMOKY DISTILLERY LLC   \n",
       "159903       STRAIGHT BOURBON WHISKIES                   JIM BEAM BRANDS   \n",
       "\n",
       "        Item Number                          Item Description  \\\n",
       "0             27102                         TEMPLETON RYE 4YR   \n",
       "1             35416                    BURNETT'S VODKA 80 PRF   \n",
       "2             11296                               CROWN ROYAL   \n",
       "3             82787                      DEKUYPER BUTTERSHOTS   \n",
       "4             64863                 FIREBALL CINNAMON WHISKEY   \n",
       "...             ...                                       ...   \n",
       "159899        76488                        PARAMOUNT AMARETTO   \n",
       "159900        67527                     KAHLUA COFFEE LIQUEUR   \n",
       "159901        28866                             TANQUERAY GIN   \n",
       "159902        80363  OLE SMOKY BANANA PUDDING CREAM MOONSHINE   \n",
       "159903        20116                      OLD GRAND DAD 114PRF   \n",
       "\n",
       "        Bottle Volume (ml)  State Bottle Cost  State Bottle Retail  \\\n",
       "0                      750              18.09                27.14   \n",
       "1                      750               4.84                 7.26   \n",
       "2                      750              15.59                23.39   \n",
       "3                     1000               7.87                11.81   \n",
       "4                      200               2.50                 3.75   \n",
       "...                    ...                ...                  ...   \n",
       "159899                1750               8.07                12.11   \n",
       "159900                1000              14.81                22.22   \n",
       "159901                 750              13.50                20.25   \n",
       "159902                 750              13.00                19.50   \n",
       "159903                 750              13.84                20.76   \n",
       "\n",
       "        Bottles Sold  Sale (Dollars)  \n",
       "0                  2           54.28  \n",
       "1                 12           87.12  \n",
       "2                  6          135.66  \n",
       "3                 12          141.72  \n",
       "4                 12           45.00  \n",
       "...              ...             ...  \n",
       "159899             6           72.66  \n",
       "159900             1           22.22  \n",
       "159901             2           40.50  \n",
       "159902             3           58.50  \n",
       "159903             3           62.28  \n",
       "\n",
       "[159904 rows x 14 columns]"
      ]
     },
     "execution_count": 1,
     "metadata": {},
     "output_type": "execute_result"
    }
   ],
   "source": [
    "import pandas as pd \n",
    "import numpy as np\n",
    "bottle = pd.read_csv(\"data/iowa.csv\")\n",
    "bottle"
   ]
  },
  {
   "cell_type": "code",
   "execution_count": null,
   "id": "0a415a4d",
   "metadata": {},
   "outputs": [
    {
     "data": {
      "text/html": [
       "<div>\n",
       "<style scoped>\n",
       "    .dataframe tbody tr th:only-of-type {\n",
       "        vertical-align: middle;\n",
       "    }\n",
       "\n",
       "    .dataframe tbody tr th {\n",
       "        vertical-align: top;\n",
       "    }\n",
       "\n",
       "    .dataframe thead th {\n",
       "        text-align: right;\n",
       "    }\n",
       "</style>\n",
       "<table border=\"1\" class=\"dataframe\">\n",
       "  <thead>\n",
       "    <tr style=\"text-align: right;\">\n",
       "      <th></th>\n",
       "      <th>Item Description</th>\n",
       "      <th>Sale (Dollars)</th>\n",
       "      <th>Bottles Sold</th>\n",
       "    </tr>\n",
       "  </thead>\n",
       "  <tbody>\n",
       "    <tr>\n",
       "      <th>5022</th>\n",
       "      <td>TITOS HANDMADE VODKA</td>\n",
       "      <td>1089534.02</td>\n",
       "      <td>57263</td>\n",
       "    </tr>\n",
       "    <tr>\n",
       "      <th>636</th>\n",
       "      <td>BLACK VELVET</td>\n",
       "      <td>817065.33</td>\n",
       "      <td>76184</td>\n",
       "    </tr>\n",
       "    <tr>\n",
       "      <th>1854</th>\n",
       "      <td>FIREBALL CINNAMON WHISKEY</td>\n",
       "      <td>562508.92</td>\n",
       "      <td>97308</td>\n",
       "    </tr>\n",
       "    <tr>\n",
       "      <th>1323</th>\n",
       "      <td>CROWN ROYAL</td>\n",
       "      <td>482125.60</td>\n",
       "      <td>19817</td>\n",
       "    </tr>\n",
       "    <tr>\n",
       "      <th>1358</th>\n",
       "      <td>CROWN ROYAL REGAL APPLE</td>\n",
       "      <td>368257.76</td>\n",
       "      <td>16250</td>\n",
       "    </tr>\n",
       "    <tr>\n",
       "      <th>...</th>\n",
       "      <td>...</td>\n",
       "      <td>...</td>\n",
       "      <td>...</td>\n",
       "    </tr>\n",
       "    <tr>\n",
       "      <th>3995</th>\n",
       "      <td>RED STAG</td>\n",
       "      <td>5.64</td>\n",
       "      <td>3</td>\n",
       "    </tr>\n",
       "    <tr>\n",
       "      <th>4238</th>\n",
       "      <td>SEAGRAM'S PEACH TWISTED GIN MINI</td>\n",
       "      <td>4.95</td>\n",
       "      <td>1</td>\n",
       "    </tr>\n",
       "    <tr>\n",
       "      <th>3192</th>\n",
       "      <td>MALIBU SUNDAE MINI</td>\n",
       "      <td>4.95</td>\n",
       "      <td>1</td>\n",
       "    </tr>\n",
       "    <tr>\n",
       "      <th>4123</th>\n",
       "      <td>ROMANA SAMBUCA HOLIDAY MINIS</td>\n",
       "      <td>3.00</td>\n",
       "      <td>1</td>\n",
       "    </tr>\n",
       "    <tr>\n",
       "      <th>3501</th>\n",
       "      <td>OLD ELK 10YR WHEAT WHISKEY</td>\n",
       "      <td>-97.50</td>\n",
       "      <td>-1</td>\n",
       "    </tr>\n",
       "  </tbody>\n",
       "</table>\n",
       "<p>5401 rows × 3 columns</p>\n",
       "</div>"
      ],
      "text/plain": [
       "                      Item Description  Sale (Dollars)  Bottles Sold\n",
       "5022              TITOS HANDMADE VODKA      1089534.02         57263\n",
       "636                       BLACK VELVET       817065.33         76184\n",
       "1854         FIREBALL CINNAMON WHISKEY       562508.92         97308\n",
       "1323                       CROWN ROYAL       482125.60         19817\n",
       "1358           CROWN ROYAL REGAL APPLE       368257.76         16250\n",
       "...                                ...             ...           ...\n",
       "3995                          RED STAG            5.64             3\n",
       "4238  SEAGRAM'S PEACH TWISTED GIN MINI            4.95             1\n",
       "3192                MALIBU SUNDAE MINI            4.95             1\n",
       "4123      ROMANA SAMBUCA HOLIDAY MINIS            3.00             1\n",
       "3501        OLD ELK 10YR WHEAT WHISKEY          -97.50            -1\n",
       "\n",
       "[5401 rows x 3 columns]"
      ]
     },
     "execution_count": 2,
     "metadata": {},
     "output_type": "execute_result"
    }
   ],
   "source": [
    "# using groupby to determine the most profitable sales\n",
    "sale_by_item = bottle.groupby(\"Item Description\", as_index=False)[\"Sale (Dollars)\"].sum().sort_values(by=\"Sale (Dollars)\",ascending=False)\n",
    "# print(sale_by_item.head())\n",
    "\n",
    "# okay want to take the previous info and look at it in tandem with sale dollars and quantity sold\n",
    "quantity_by_item = bottle.groupby(\"Item Description\", as_index=False)[\"Bottles Sold\"].sum().sort_values(by=\"Bottles Sold\",ascending=False)\n",
    "# print(quantity_by_item.head())\n",
    "\n",
    "\n",
    "\n",
    "\n",
    "# going to concatenate the two dataframes\n",
    "combined = pd.concat([sale_by_item, quantity_by_item], axis=1)\n",
    "\n",
    "# link: https://stackoverflow.com/questions/14984119/python-pandas-remove-duplicate-columns\n",
    "# dropping duplicate column\n",
    "combined = combined.loc[:,~combined.columns.duplicated()].copy()\n",
    "combined"
   ]
  },
  {
   "cell_type": "code",
   "execution_count": 3,
   "id": "d3729015",
   "metadata": {},
   "outputs": [
    {
     "data": {
      "application/vnd.plotly.v1+json": {
       "config": {
        "plotlyServerURL": "https://plot.ly"
       },
       "data": [
        {
         "customdata": {
          "bdata": "r98AAJgpAQAcfAEAaU0AAHo/AABWUQAAq9EAAN5YAAAwMQAAp0kAAH8tAABnKQAAzDIAANJAAABrHwAAkBYAADonAADAaQAAPCsAAHYWAAA=",
          "dtype": "i4",
          "shape": "20, 1"
         },
         "hovertemplate": "Item Description=%{x}<br>Sale (Dollars)=%{y}<br>Bottles Sold=%{marker.color}<extra></extra>",
         "legendgroup": "",
         "marker": {
          "color": {
           "bdata": "r98AAJgpAQAcfAEAaU0AAHo/AABWUQAAq9EAAN5YAAAwMQAAp0kAAH8tAABnKQAAzDIAANJAAABrHwAAkBYAADonAADAaQAAPCsAAHYWAAA=",
           "dtype": "i4"
          },
          "coloraxis": "coloraxis",
          "pattern": {
           "shape": ""
          }
         },
         "name": "",
         "orientation": "v",
         "showlegend": false,
         "textposition": "auto",
         "type": "bar",
         "x": [
          "TITOS HANDMADE VODKA",
          "BLACK VELVET",
          "FIREBALL CINNAMON WHISKEY",
          "CROWN ROYAL",
          "CROWN ROYAL REGAL APPLE",
          "CAPTAIN MORGAN SPICED RUM",
          "HAWKEYE VODKA",
          "CAPTAIN MORGAN ORIGINAL SPICED",
          "JACK DANIELS OLD #7 BLACK LABEL",
          "HENNESSY VS",
          "JAMESON",
          "JACK DANIELS OLD #7 BLACK LBL",
          "JAGERMEISTER LIQUEUR",
          "JIM BEAM",
          "CROWN ROYAL CANADIAN WHISKY",
          "PATRON SILVER",
          "ABSOLUT SWEDISH VODKA 80 PRF",
          "FIVE O'CLOCK VODKA",
          "MALIBU COCONUT RUM",
          "CAPTAIN MORGAN ORIGINAL SPICED BARREL"
         ],
         "xaxis": "x",
         "y": {
          "bdata": "UrgeBf6fMEGPwvWoUu8oQXE9CteZKiFBZmZmZjZtHUGkcD0KB3oWQZqZmZm7NRZBuB6F64NOFUH2KFyPu4MUQXsUrkceZBRBXI/C9a7HE0FI4XoUvmwSQWZmZmaVHxFBw/UoXKtEDkHhehSu1X8NQa5H4XpYDglBMzMzM/k/CEEAAAAA4EYHQT0K16MM+QNBcT0K15uGA0Fcj8L1XhUDQQ==",
          "dtype": "f8"
         },
         "yaxis": "y"
        }
       ],
       "layout": {
        "barmode": "relative",
        "coloraxis": {
         "colorbar": {
          "title": {
           "text": "Bottles Sold"
          }
         },
         "colorscale": [
          [
           0,
           "#0d0887"
          ],
          [
           0.1111111111111111,
           "#46039f"
          ],
          [
           0.2222222222222222,
           "#7201a8"
          ],
          [
           0.3333333333333333,
           "#9c179e"
          ],
          [
           0.4444444444444444,
           "#bd3786"
          ],
          [
           0.5555555555555556,
           "#d8576b"
          ],
          [
           0.6666666666666666,
           "#ed7953"
          ],
          [
           0.7777777777777778,
           "#fb9f3a"
          ],
          [
           0.8888888888888888,
           "#fdca26"
          ],
          [
           1,
           "#f0f921"
          ]
         ]
        },
        "height": 400,
        "legend": {
         "tracegroupgap": 0
        },
        "template": {
         "data": {
          "bar": [
           {
            "error_x": {
             "color": "#2a3f5f"
            },
            "error_y": {
             "color": "#2a3f5f"
            },
            "marker": {
             "line": {
              "color": "#E5ECF6",
              "width": 0.5
             },
             "pattern": {
              "fillmode": "overlay",
              "size": 10,
              "solidity": 0.2
             }
            },
            "type": "bar"
           }
          ],
          "barpolar": [
           {
            "marker": {
             "line": {
              "color": "#E5ECF6",
              "width": 0.5
             },
             "pattern": {
              "fillmode": "overlay",
              "size": 10,
              "solidity": 0.2
             }
            },
            "type": "barpolar"
           }
          ],
          "carpet": [
           {
            "aaxis": {
             "endlinecolor": "#2a3f5f",
             "gridcolor": "white",
             "linecolor": "white",
             "minorgridcolor": "white",
             "startlinecolor": "#2a3f5f"
            },
            "baxis": {
             "endlinecolor": "#2a3f5f",
             "gridcolor": "white",
             "linecolor": "white",
             "minorgridcolor": "white",
             "startlinecolor": "#2a3f5f"
            },
            "type": "carpet"
           }
          ],
          "choropleth": [
           {
            "colorbar": {
             "outlinewidth": 0,
             "ticks": ""
            },
            "type": "choropleth"
           }
          ],
          "contour": [
           {
            "colorbar": {
             "outlinewidth": 0,
             "ticks": ""
            },
            "colorscale": [
             [
              0,
              "#0d0887"
             ],
             [
              0.1111111111111111,
              "#46039f"
             ],
             [
              0.2222222222222222,
              "#7201a8"
             ],
             [
              0.3333333333333333,
              "#9c179e"
             ],
             [
              0.4444444444444444,
              "#bd3786"
             ],
             [
              0.5555555555555556,
              "#d8576b"
             ],
             [
              0.6666666666666666,
              "#ed7953"
             ],
             [
              0.7777777777777778,
              "#fb9f3a"
             ],
             [
              0.8888888888888888,
              "#fdca26"
             ],
             [
              1,
              "#f0f921"
             ]
            ],
            "type": "contour"
           }
          ],
          "contourcarpet": [
           {
            "colorbar": {
             "outlinewidth": 0,
             "ticks": ""
            },
            "type": "contourcarpet"
           }
          ],
          "heatmap": [
           {
            "colorbar": {
             "outlinewidth": 0,
             "ticks": ""
            },
            "colorscale": [
             [
              0,
              "#0d0887"
             ],
             [
              0.1111111111111111,
              "#46039f"
             ],
             [
              0.2222222222222222,
              "#7201a8"
             ],
             [
              0.3333333333333333,
              "#9c179e"
             ],
             [
              0.4444444444444444,
              "#bd3786"
             ],
             [
              0.5555555555555556,
              "#d8576b"
             ],
             [
              0.6666666666666666,
              "#ed7953"
             ],
             [
              0.7777777777777778,
              "#fb9f3a"
             ],
             [
              0.8888888888888888,
              "#fdca26"
             ],
             [
              1,
              "#f0f921"
             ]
            ],
            "type": "heatmap"
           }
          ],
          "histogram": [
           {
            "marker": {
             "pattern": {
              "fillmode": "overlay",
              "size": 10,
              "solidity": 0.2
             }
            },
            "type": "histogram"
           }
          ],
          "histogram2d": [
           {
            "colorbar": {
             "outlinewidth": 0,
             "ticks": ""
            },
            "colorscale": [
             [
              0,
              "#0d0887"
             ],
             [
              0.1111111111111111,
              "#46039f"
             ],
             [
              0.2222222222222222,
              "#7201a8"
             ],
             [
              0.3333333333333333,
              "#9c179e"
             ],
             [
              0.4444444444444444,
              "#bd3786"
             ],
             [
              0.5555555555555556,
              "#d8576b"
             ],
             [
              0.6666666666666666,
              "#ed7953"
             ],
             [
              0.7777777777777778,
              "#fb9f3a"
             ],
             [
              0.8888888888888888,
              "#fdca26"
             ],
             [
              1,
              "#f0f921"
             ]
            ],
            "type": "histogram2d"
           }
          ],
          "histogram2dcontour": [
           {
            "colorbar": {
             "outlinewidth": 0,
             "ticks": ""
            },
            "colorscale": [
             [
              0,
              "#0d0887"
             ],
             [
              0.1111111111111111,
              "#46039f"
             ],
             [
              0.2222222222222222,
              "#7201a8"
             ],
             [
              0.3333333333333333,
              "#9c179e"
             ],
             [
              0.4444444444444444,
              "#bd3786"
             ],
             [
              0.5555555555555556,
              "#d8576b"
             ],
             [
              0.6666666666666666,
              "#ed7953"
             ],
             [
              0.7777777777777778,
              "#fb9f3a"
             ],
             [
              0.8888888888888888,
              "#fdca26"
             ],
             [
              1,
              "#f0f921"
             ]
            ],
            "type": "histogram2dcontour"
           }
          ],
          "mesh3d": [
           {
            "colorbar": {
             "outlinewidth": 0,
             "ticks": ""
            },
            "type": "mesh3d"
           }
          ],
          "parcoords": [
           {
            "line": {
             "colorbar": {
              "outlinewidth": 0,
              "ticks": ""
             }
            },
            "type": "parcoords"
           }
          ],
          "pie": [
           {
            "automargin": true,
            "type": "pie"
           }
          ],
          "scatter": [
           {
            "fillpattern": {
             "fillmode": "overlay",
             "size": 10,
             "solidity": 0.2
            },
            "type": "scatter"
           }
          ],
          "scatter3d": [
           {
            "line": {
             "colorbar": {
              "outlinewidth": 0,
              "ticks": ""
             }
            },
            "marker": {
             "colorbar": {
              "outlinewidth": 0,
              "ticks": ""
             }
            },
            "type": "scatter3d"
           }
          ],
          "scattercarpet": [
           {
            "marker": {
             "colorbar": {
              "outlinewidth": 0,
              "ticks": ""
             }
            },
            "type": "scattercarpet"
           }
          ],
          "scattergeo": [
           {
            "marker": {
             "colorbar": {
              "outlinewidth": 0,
              "ticks": ""
             }
            },
            "type": "scattergeo"
           }
          ],
          "scattergl": [
           {
            "marker": {
             "colorbar": {
              "outlinewidth": 0,
              "ticks": ""
             }
            },
            "type": "scattergl"
           }
          ],
          "scattermap": [
           {
            "marker": {
             "colorbar": {
              "outlinewidth": 0,
              "ticks": ""
             }
            },
            "type": "scattermap"
           }
          ],
          "scattermapbox": [
           {
            "marker": {
             "colorbar": {
              "outlinewidth": 0,
              "ticks": ""
             }
            },
            "type": "scattermapbox"
           }
          ],
          "scatterpolar": [
           {
            "marker": {
             "colorbar": {
              "outlinewidth": 0,
              "ticks": ""
             }
            },
            "type": "scatterpolar"
           }
          ],
          "scatterpolargl": [
           {
            "marker": {
             "colorbar": {
              "outlinewidth": 0,
              "ticks": ""
             }
            },
            "type": "scatterpolargl"
           }
          ],
          "scatterternary": [
           {
            "marker": {
             "colorbar": {
              "outlinewidth": 0,
              "ticks": ""
             }
            },
            "type": "scatterternary"
           }
          ],
          "surface": [
           {
            "colorbar": {
             "outlinewidth": 0,
             "ticks": ""
            },
            "colorscale": [
             [
              0,
              "#0d0887"
             ],
             [
              0.1111111111111111,
              "#46039f"
             ],
             [
              0.2222222222222222,
              "#7201a8"
             ],
             [
              0.3333333333333333,
              "#9c179e"
             ],
             [
              0.4444444444444444,
              "#bd3786"
             ],
             [
              0.5555555555555556,
              "#d8576b"
             ],
             [
              0.6666666666666666,
              "#ed7953"
             ],
             [
              0.7777777777777778,
              "#fb9f3a"
             ],
             [
              0.8888888888888888,
              "#fdca26"
             ],
             [
              1,
              "#f0f921"
             ]
            ],
            "type": "surface"
           }
          ],
          "table": [
           {
            "cells": {
             "fill": {
              "color": "#EBF0F8"
             },
             "line": {
              "color": "white"
             }
            },
            "header": {
             "fill": {
              "color": "#C8D4E3"
             },
             "line": {
              "color": "white"
             }
            },
            "type": "table"
           }
          ]
         },
         "layout": {
          "annotationdefaults": {
           "arrowcolor": "#2a3f5f",
           "arrowhead": 0,
           "arrowwidth": 1
          },
          "autotypenumbers": "strict",
          "coloraxis": {
           "colorbar": {
            "outlinewidth": 0,
            "ticks": ""
           }
          },
          "colorscale": {
           "diverging": [
            [
             0,
             "#8e0152"
            ],
            [
             0.1,
             "#c51b7d"
            ],
            [
             0.2,
             "#de77ae"
            ],
            [
             0.3,
             "#f1b6da"
            ],
            [
             0.4,
             "#fde0ef"
            ],
            [
             0.5,
             "#f7f7f7"
            ],
            [
             0.6,
             "#e6f5d0"
            ],
            [
             0.7,
             "#b8e186"
            ],
            [
             0.8,
             "#7fbc41"
            ],
            [
             0.9,
             "#4d9221"
            ],
            [
             1,
             "#276419"
            ]
           ],
           "sequential": [
            [
             0,
             "#0d0887"
            ],
            [
             0.1111111111111111,
             "#46039f"
            ],
            [
             0.2222222222222222,
             "#7201a8"
            ],
            [
             0.3333333333333333,
             "#9c179e"
            ],
            [
             0.4444444444444444,
             "#bd3786"
            ],
            [
             0.5555555555555556,
             "#d8576b"
            ],
            [
             0.6666666666666666,
             "#ed7953"
            ],
            [
             0.7777777777777778,
             "#fb9f3a"
            ],
            [
             0.8888888888888888,
             "#fdca26"
            ],
            [
             1,
             "#f0f921"
            ]
           ],
           "sequentialminus": [
            [
             0,
             "#0d0887"
            ],
            [
             0.1111111111111111,
             "#46039f"
            ],
            [
             0.2222222222222222,
             "#7201a8"
            ],
            [
             0.3333333333333333,
             "#9c179e"
            ],
            [
             0.4444444444444444,
             "#bd3786"
            ],
            [
             0.5555555555555556,
             "#d8576b"
            ],
            [
             0.6666666666666666,
             "#ed7953"
            ],
            [
             0.7777777777777778,
             "#fb9f3a"
            ],
            [
             0.8888888888888888,
             "#fdca26"
            ],
            [
             1,
             "#f0f921"
            ]
           ]
          },
          "colorway": [
           "#636efa",
           "#EF553B",
           "#00cc96",
           "#ab63fa",
           "#FFA15A",
           "#19d3f3",
           "#FF6692",
           "#B6E880",
           "#FF97FF",
           "#FECB52"
          ],
          "font": {
           "color": "#2a3f5f"
          },
          "geo": {
           "bgcolor": "white",
           "lakecolor": "white",
           "landcolor": "#E5ECF6",
           "showlakes": true,
           "showland": true,
           "subunitcolor": "white"
          },
          "hoverlabel": {
           "align": "left"
          },
          "hovermode": "closest",
          "mapbox": {
           "style": "light"
          },
          "paper_bgcolor": "white",
          "plot_bgcolor": "#E5ECF6",
          "polar": {
           "angularaxis": {
            "gridcolor": "white",
            "linecolor": "white",
            "ticks": ""
           },
           "bgcolor": "#E5ECF6",
           "radialaxis": {
            "gridcolor": "white",
            "linecolor": "white",
            "ticks": ""
           }
          },
          "scene": {
           "xaxis": {
            "backgroundcolor": "#E5ECF6",
            "gridcolor": "white",
            "gridwidth": 2,
            "linecolor": "white",
            "showbackground": true,
            "ticks": "",
            "zerolinecolor": "white"
           },
           "yaxis": {
            "backgroundcolor": "#E5ECF6",
            "gridcolor": "white",
            "gridwidth": 2,
            "linecolor": "white",
            "showbackground": true,
            "ticks": "",
            "zerolinecolor": "white"
           },
           "zaxis": {
            "backgroundcolor": "#E5ECF6",
            "gridcolor": "white",
            "gridwidth": 2,
            "linecolor": "white",
            "showbackground": true,
            "ticks": "",
            "zerolinecolor": "white"
           }
          },
          "shapedefaults": {
           "line": {
            "color": "#2a3f5f"
           }
          },
          "ternary": {
           "aaxis": {
            "gridcolor": "white",
            "linecolor": "white",
            "ticks": ""
           },
           "baxis": {
            "gridcolor": "white",
            "linecolor": "white",
            "ticks": ""
           },
           "bgcolor": "#E5ECF6",
           "caxis": {
            "gridcolor": "white",
            "linecolor": "white",
            "ticks": ""
           }
          },
          "title": {
           "x": 0.05
          },
          "xaxis": {
           "automargin": true,
           "gridcolor": "white",
           "linecolor": "white",
           "ticks": "",
           "title": {
            "standoff": 15
           },
           "zerolinecolor": "white",
           "zerolinewidth": 2
          },
          "yaxis": {
           "automargin": true,
           "gridcolor": "white",
           "linecolor": "white",
           "ticks": "",
           "title": {
            "standoff": 15
           },
           "zerolinecolor": "white",
           "zerolinewidth": 2
          }
         }
        },
        "title": {
         "text": "Sales (Dollars) by Item"
        },
        "xaxis": {
         "anchor": "y",
         "domain": [
          0,
          1
         ],
         "title": {
          "text": "Item Description"
         }
        },
        "yaxis": {
         "anchor": "x",
         "domain": [
          0,
          1
         ],
         "title": {
          "text": "Sale (Dollars)"
         }
        }
       }
      }
     },
     "metadata": {},
     "output_type": "display_data"
    }
   ],
   "source": [
    "# bar chart \n",
    "# source: https://plotly.com/python/bar-charts/\n",
    "# there are so many alcohols in the dataset, so I'm only going to show the top 20\n",
    "import plotly.express as px\n",
    "\n",
    "combined_top_20_dollar_sales = combined.head(20)\n",
    "fig= px.bar(combined_top_20_dollar_sales, x='Item Description', y='Sale (Dollars)', color='Bottles Sold',\n",
    "             hover_data=['Bottles Sold'], title='Sales (Dollars) by Item', height=400)\n",
    "fig.show()\n",
    "\n",
    "\n",
    "\n"
   ]
  },
  {
   "cell_type": "code",
   "execution_count": 4,
   "id": "6e0565a8",
   "metadata": {},
   "outputs": [
    {
     "data": {
      "application/vnd.plotly.v1+json": {
       "config": {
        "plotlyServerURL": "https://plot.ly"
       },
       "data": [
        {
         "customdata": {
          "bdata": "HHwBAJgpAQCv3wAAq9EAAMBpAADeWAAAZ1YAAFZRAABpTQAAp0kAAFBCAADSQAAAej8AAM08AAC9OQAAuzkAAEM4AAC+NAAA+DMAANwzAAA=",
          "dtype": "i4",
          "shape": "20, 1"
         },
         "hovertemplate": "Item Description=%{x}<br>Sale (Dollars)=%{y}<br>Bottles Sold=%{marker.color}<extra></extra>",
         "legendgroup": "",
         "marker": {
          "color": {
           "bdata": "HHwBAJgpAQCv3wAAq9EAAMBpAADeWAAAZ1YAAFZRAABpTQAAp0kAAFBCAADSQAAAej8AAM08AAC9OQAAuzkAAEM4AAC+NAAA+DMAANwzAAA=",
           "dtype": "i4"
          },
          "coloraxis": "coloraxis",
          "pattern": {
           "shape": ""
          }
         },
         "name": "",
         "orientation": "v",
         "showlegend": false,
         "textposition": "auto",
         "type": "bar",
         "x": [
          "FIREBALL CINNAMON WHISKEY",
          "BLACK VELVET",
          "TITOS HANDMADE VODKA",
          "HAWKEYE VODKA",
          "FIVE O'CLOCK VODKA",
          "CAPTAIN MORGAN ORIGINAL SPICED",
          "BARTON VODKA",
          "CAPTAIN MORGAN SPICED RUM",
          "CROWN ROYAL",
          "HENNESSY VS",
          "MCCORMICK 80PRF VODKA PET",
          "JIM BEAM",
          "CROWN ROYAL REGAL APPLE",
          "FIREBALL CINNAMON",
          "FIVE STAR",
          "MCCORMICK VODKA PET",
          "FIREBALL CINNAMON WHISKEY MINI SLEEVE",
          "PHILLIPS VODKA",
          "SMIRNOFF 80PRF",
          "SEAGRAMS EXTRA DRY GIN"
         ],
         "xaxis": "x",
         "y": {
          "bdata": "cT0K15kqIUGPwvWoUu8oQVK4HgX+nzBBuB6F64NOFUE9CtejDPkDQfYoXI+7gxRBexSuR+P4AkGamZmZuzUWQWZmZmY2bR1BXI/C9a7HE0H2KFyPUiTuQOF6FK7Vfw1BpHA9Cgd6FkFcj8L1WITUQPYoXI8yofNASOF6FGbW7kAzMzMzy8H2QAAAAADov/tArkfheuwLAEEzMzMzP+TwQA==",
          "dtype": "f8"
         },
         "yaxis": "y"
        }
       ],
       "layout": {
        "barmode": "relative",
        "coloraxis": {
         "colorbar": {
          "title": {
           "text": "Bottles Sold"
          }
         },
         "colorscale": [
          [
           0,
           "#0d0887"
          ],
          [
           0.1111111111111111,
           "#46039f"
          ],
          [
           0.2222222222222222,
           "#7201a8"
          ],
          [
           0.3333333333333333,
           "#9c179e"
          ],
          [
           0.4444444444444444,
           "#bd3786"
          ],
          [
           0.5555555555555556,
           "#d8576b"
          ],
          [
           0.6666666666666666,
           "#ed7953"
          ],
          [
           0.7777777777777778,
           "#fb9f3a"
          ],
          [
           0.8888888888888888,
           "#fdca26"
          ],
          [
           1,
           "#f0f921"
          ]
         ]
        },
        "height": 400,
        "legend": {
         "tracegroupgap": 0
        },
        "template": {
         "data": {
          "bar": [
           {
            "error_x": {
             "color": "#2a3f5f"
            },
            "error_y": {
             "color": "#2a3f5f"
            },
            "marker": {
             "line": {
              "color": "#E5ECF6",
              "width": 0.5
             },
             "pattern": {
              "fillmode": "overlay",
              "size": 10,
              "solidity": 0.2
             }
            },
            "type": "bar"
           }
          ],
          "barpolar": [
           {
            "marker": {
             "line": {
              "color": "#E5ECF6",
              "width": 0.5
             },
             "pattern": {
              "fillmode": "overlay",
              "size": 10,
              "solidity": 0.2
             }
            },
            "type": "barpolar"
           }
          ],
          "carpet": [
           {
            "aaxis": {
             "endlinecolor": "#2a3f5f",
             "gridcolor": "white",
             "linecolor": "white",
             "minorgridcolor": "white",
             "startlinecolor": "#2a3f5f"
            },
            "baxis": {
             "endlinecolor": "#2a3f5f",
             "gridcolor": "white",
             "linecolor": "white",
             "minorgridcolor": "white",
             "startlinecolor": "#2a3f5f"
            },
            "type": "carpet"
           }
          ],
          "choropleth": [
           {
            "colorbar": {
             "outlinewidth": 0,
             "ticks": ""
            },
            "type": "choropleth"
           }
          ],
          "contour": [
           {
            "colorbar": {
             "outlinewidth": 0,
             "ticks": ""
            },
            "colorscale": [
             [
              0,
              "#0d0887"
             ],
             [
              0.1111111111111111,
              "#46039f"
             ],
             [
              0.2222222222222222,
              "#7201a8"
             ],
             [
              0.3333333333333333,
              "#9c179e"
             ],
             [
              0.4444444444444444,
              "#bd3786"
             ],
             [
              0.5555555555555556,
              "#d8576b"
             ],
             [
              0.6666666666666666,
              "#ed7953"
             ],
             [
              0.7777777777777778,
              "#fb9f3a"
             ],
             [
              0.8888888888888888,
              "#fdca26"
             ],
             [
              1,
              "#f0f921"
             ]
            ],
            "type": "contour"
           }
          ],
          "contourcarpet": [
           {
            "colorbar": {
             "outlinewidth": 0,
             "ticks": ""
            },
            "type": "contourcarpet"
           }
          ],
          "heatmap": [
           {
            "colorbar": {
             "outlinewidth": 0,
             "ticks": ""
            },
            "colorscale": [
             [
              0,
              "#0d0887"
             ],
             [
              0.1111111111111111,
              "#46039f"
             ],
             [
              0.2222222222222222,
              "#7201a8"
             ],
             [
              0.3333333333333333,
              "#9c179e"
             ],
             [
              0.4444444444444444,
              "#bd3786"
             ],
             [
              0.5555555555555556,
              "#d8576b"
             ],
             [
              0.6666666666666666,
              "#ed7953"
             ],
             [
              0.7777777777777778,
              "#fb9f3a"
             ],
             [
              0.8888888888888888,
              "#fdca26"
             ],
             [
              1,
              "#f0f921"
             ]
            ],
            "type": "heatmap"
           }
          ],
          "histogram": [
           {
            "marker": {
             "pattern": {
              "fillmode": "overlay",
              "size": 10,
              "solidity": 0.2
             }
            },
            "type": "histogram"
           }
          ],
          "histogram2d": [
           {
            "colorbar": {
             "outlinewidth": 0,
             "ticks": ""
            },
            "colorscale": [
             [
              0,
              "#0d0887"
             ],
             [
              0.1111111111111111,
              "#46039f"
             ],
             [
              0.2222222222222222,
              "#7201a8"
             ],
             [
              0.3333333333333333,
              "#9c179e"
             ],
             [
              0.4444444444444444,
              "#bd3786"
             ],
             [
              0.5555555555555556,
              "#d8576b"
             ],
             [
              0.6666666666666666,
              "#ed7953"
             ],
             [
              0.7777777777777778,
              "#fb9f3a"
             ],
             [
              0.8888888888888888,
              "#fdca26"
             ],
             [
              1,
              "#f0f921"
             ]
            ],
            "type": "histogram2d"
           }
          ],
          "histogram2dcontour": [
           {
            "colorbar": {
             "outlinewidth": 0,
             "ticks": ""
            },
            "colorscale": [
             [
              0,
              "#0d0887"
             ],
             [
              0.1111111111111111,
              "#46039f"
             ],
             [
              0.2222222222222222,
              "#7201a8"
             ],
             [
              0.3333333333333333,
              "#9c179e"
             ],
             [
              0.4444444444444444,
              "#bd3786"
             ],
             [
              0.5555555555555556,
              "#d8576b"
             ],
             [
              0.6666666666666666,
              "#ed7953"
             ],
             [
              0.7777777777777778,
              "#fb9f3a"
             ],
             [
              0.8888888888888888,
              "#fdca26"
             ],
             [
              1,
              "#f0f921"
             ]
            ],
            "type": "histogram2dcontour"
           }
          ],
          "mesh3d": [
           {
            "colorbar": {
             "outlinewidth": 0,
             "ticks": ""
            },
            "type": "mesh3d"
           }
          ],
          "parcoords": [
           {
            "line": {
             "colorbar": {
              "outlinewidth": 0,
              "ticks": ""
             }
            },
            "type": "parcoords"
           }
          ],
          "pie": [
           {
            "automargin": true,
            "type": "pie"
           }
          ],
          "scatter": [
           {
            "fillpattern": {
             "fillmode": "overlay",
             "size": 10,
             "solidity": 0.2
            },
            "type": "scatter"
           }
          ],
          "scatter3d": [
           {
            "line": {
             "colorbar": {
              "outlinewidth": 0,
              "ticks": ""
             }
            },
            "marker": {
             "colorbar": {
              "outlinewidth": 0,
              "ticks": ""
             }
            },
            "type": "scatter3d"
           }
          ],
          "scattercarpet": [
           {
            "marker": {
             "colorbar": {
              "outlinewidth": 0,
              "ticks": ""
             }
            },
            "type": "scattercarpet"
           }
          ],
          "scattergeo": [
           {
            "marker": {
             "colorbar": {
              "outlinewidth": 0,
              "ticks": ""
             }
            },
            "type": "scattergeo"
           }
          ],
          "scattergl": [
           {
            "marker": {
             "colorbar": {
              "outlinewidth": 0,
              "ticks": ""
             }
            },
            "type": "scattergl"
           }
          ],
          "scattermap": [
           {
            "marker": {
             "colorbar": {
              "outlinewidth": 0,
              "ticks": ""
             }
            },
            "type": "scattermap"
           }
          ],
          "scattermapbox": [
           {
            "marker": {
             "colorbar": {
              "outlinewidth": 0,
              "ticks": ""
             }
            },
            "type": "scattermapbox"
           }
          ],
          "scatterpolar": [
           {
            "marker": {
             "colorbar": {
              "outlinewidth": 0,
              "ticks": ""
             }
            },
            "type": "scatterpolar"
           }
          ],
          "scatterpolargl": [
           {
            "marker": {
             "colorbar": {
              "outlinewidth": 0,
              "ticks": ""
             }
            },
            "type": "scatterpolargl"
           }
          ],
          "scatterternary": [
           {
            "marker": {
             "colorbar": {
              "outlinewidth": 0,
              "ticks": ""
             }
            },
            "type": "scatterternary"
           }
          ],
          "surface": [
           {
            "colorbar": {
             "outlinewidth": 0,
             "ticks": ""
            },
            "colorscale": [
             [
              0,
              "#0d0887"
             ],
             [
              0.1111111111111111,
              "#46039f"
             ],
             [
              0.2222222222222222,
              "#7201a8"
             ],
             [
              0.3333333333333333,
              "#9c179e"
             ],
             [
              0.4444444444444444,
              "#bd3786"
             ],
             [
              0.5555555555555556,
              "#d8576b"
             ],
             [
              0.6666666666666666,
              "#ed7953"
             ],
             [
              0.7777777777777778,
              "#fb9f3a"
             ],
             [
              0.8888888888888888,
              "#fdca26"
             ],
             [
              1,
              "#f0f921"
             ]
            ],
            "type": "surface"
           }
          ],
          "table": [
           {
            "cells": {
             "fill": {
              "color": "#EBF0F8"
             },
             "line": {
              "color": "white"
             }
            },
            "header": {
             "fill": {
              "color": "#C8D4E3"
             },
             "line": {
              "color": "white"
             }
            },
            "type": "table"
           }
          ]
         },
         "layout": {
          "annotationdefaults": {
           "arrowcolor": "#2a3f5f",
           "arrowhead": 0,
           "arrowwidth": 1
          },
          "autotypenumbers": "strict",
          "coloraxis": {
           "colorbar": {
            "outlinewidth": 0,
            "ticks": ""
           }
          },
          "colorscale": {
           "diverging": [
            [
             0,
             "#8e0152"
            ],
            [
             0.1,
             "#c51b7d"
            ],
            [
             0.2,
             "#de77ae"
            ],
            [
             0.3,
             "#f1b6da"
            ],
            [
             0.4,
             "#fde0ef"
            ],
            [
             0.5,
             "#f7f7f7"
            ],
            [
             0.6,
             "#e6f5d0"
            ],
            [
             0.7,
             "#b8e186"
            ],
            [
             0.8,
             "#7fbc41"
            ],
            [
             0.9,
             "#4d9221"
            ],
            [
             1,
             "#276419"
            ]
           ],
           "sequential": [
            [
             0,
             "#0d0887"
            ],
            [
             0.1111111111111111,
             "#46039f"
            ],
            [
             0.2222222222222222,
             "#7201a8"
            ],
            [
             0.3333333333333333,
             "#9c179e"
            ],
            [
             0.4444444444444444,
             "#bd3786"
            ],
            [
             0.5555555555555556,
             "#d8576b"
            ],
            [
             0.6666666666666666,
             "#ed7953"
            ],
            [
             0.7777777777777778,
             "#fb9f3a"
            ],
            [
             0.8888888888888888,
             "#fdca26"
            ],
            [
             1,
             "#f0f921"
            ]
           ],
           "sequentialminus": [
            [
             0,
             "#0d0887"
            ],
            [
             0.1111111111111111,
             "#46039f"
            ],
            [
             0.2222222222222222,
             "#7201a8"
            ],
            [
             0.3333333333333333,
             "#9c179e"
            ],
            [
             0.4444444444444444,
             "#bd3786"
            ],
            [
             0.5555555555555556,
             "#d8576b"
            ],
            [
             0.6666666666666666,
             "#ed7953"
            ],
            [
             0.7777777777777778,
             "#fb9f3a"
            ],
            [
             0.8888888888888888,
             "#fdca26"
            ],
            [
             1,
             "#f0f921"
            ]
           ]
          },
          "colorway": [
           "#636efa",
           "#EF553B",
           "#00cc96",
           "#ab63fa",
           "#FFA15A",
           "#19d3f3",
           "#FF6692",
           "#B6E880",
           "#FF97FF",
           "#FECB52"
          ],
          "font": {
           "color": "#2a3f5f"
          },
          "geo": {
           "bgcolor": "white",
           "lakecolor": "white",
           "landcolor": "#E5ECF6",
           "showlakes": true,
           "showland": true,
           "subunitcolor": "white"
          },
          "hoverlabel": {
           "align": "left"
          },
          "hovermode": "closest",
          "mapbox": {
           "style": "light"
          },
          "paper_bgcolor": "white",
          "plot_bgcolor": "#E5ECF6",
          "polar": {
           "angularaxis": {
            "gridcolor": "white",
            "linecolor": "white",
            "ticks": ""
           },
           "bgcolor": "#E5ECF6",
           "radialaxis": {
            "gridcolor": "white",
            "linecolor": "white",
            "ticks": ""
           }
          },
          "scene": {
           "xaxis": {
            "backgroundcolor": "#E5ECF6",
            "gridcolor": "white",
            "gridwidth": 2,
            "linecolor": "white",
            "showbackground": true,
            "ticks": "",
            "zerolinecolor": "white"
           },
           "yaxis": {
            "backgroundcolor": "#E5ECF6",
            "gridcolor": "white",
            "gridwidth": 2,
            "linecolor": "white",
            "showbackground": true,
            "ticks": "",
            "zerolinecolor": "white"
           },
           "zaxis": {
            "backgroundcolor": "#E5ECF6",
            "gridcolor": "white",
            "gridwidth": 2,
            "linecolor": "white",
            "showbackground": true,
            "ticks": "",
            "zerolinecolor": "white"
           }
          },
          "shapedefaults": {
           "line": {
            "color": "#2a3f5f"
           }
          },
          "ternary": {
           "aaxis": {
            "gridcolor": "white",
            "linecolor": "white",
            "ticks": ""
           },
           "baxis": {
            "gridcolor": "white",
            "linecolor": "white",
            "ticks": ""
           },
           "bgcolor": "#E5ECF6",
           "caxis": {
            "gridcolor": "white",
            "linecolor": "white",
            "ticks": ""
           }
          },
          "title": {
           "x": 0.05
          },
          "xaxis": {
           "automargin": true,
           "gridcolor": "white",
           "linecolor": "white",
           "ticks": "",
           "title": {
            "standoff": 15
           },
           "zerolinecolor": "white",
           "zerolinewidth": 2
          },
          "yaxis": {
           "automargin": true,
           "gridcolor": "white",
           "linecolor": "white",
           "ticks": "",
           "title": {
            "standoff": 15
           },
           "zerolinecolor": "white",
           "zerolinewidth": 2
          }
         }
        },
        "title": {
         "text": "Bottles Sold by Item"
        },
        "xaxis": {
         "anchor": "y",
         "domain": [
          0,
          1
         ],
         "title": {
          "text": "Item Description"
         }
        },
        "yaxis": {
         "anchor": "x",
         "domain": [
          0,
          1
         ],
         "title": {
          "text": "Sale (Dollars)"
         }
        }
       }
      }
     },
     "metadata": {},
     "output_type": "display_data"
    }
   ],
   "source": [
    "# the following code is for if i wanted visualize the top 20 bottles sold (pure quantity not sales)\n",
    "combined_top_20_quantity = combined.sort_values(by='Bottles Sold',ascending=False).head(20)\n",
    "fig_2 = px.bar(combined_top_20_quantity, x='Item Description', y='Sale (Dollars)', color='Bottles Sold',\n",
    "             hover_data=['Bottles Sold'], title='Bottles Sold by Item', height=400)\n",
    "fig_2.show()"
   ]
  },
  {
   "cell_type": "markdown",
   "id": "0047667a",
   "metadata": {},
   "source": [
    "The key takeaway from these visualizations is that Tito's Handmade Vodka is one of the mose profitable alcohol sales in Iowa. Tito's had the greatest sale in dollars but was also the third highest for bottles sold. Some other profitable mentions are Fireball Cinnamon Whiskey, and Black Velvet as those along with Titos were in the top three for bottles sold and sale dollars. After the top three there is a divergence in the alcohols that appear for bottles sold and sale (dollars)\n",
    "\n",
    "## Question 2 \n"
   ]
  },
  {
   "cell_type": "markdown",
   "id": "63593bde",
   "metadata": {},
   "source": [
    "2. This question is to further explore broadcasting in NumPy.\n",
    "\n",
    "- In the first code chunk below, there are two vectors, $x$ and $y$. What happens when you try to subtract them?\n",
    "- Instead, try `x.reshape(-1,1)-y.reshape(1,-1)`. What do you get?\n",
    "- Try `x.reshape(1,-1)-y.reshape(-1,1)`. Compare the results to your previous answer.\n",
    "- Write two double for-loops to replicate the results of the previous two answers. \n",
    "- Clearly explain how `x.reshape(1,-1)` and `x.reshape(-1,1)` change $x$"
   ]
  },
  {
   "cell_type": "code",
   "execution_count": 5,
   "id": "e29b3aac",
   "metadata": {},
   "outputs": [],
   "source": [
    "import numpy as np\n",
    "\n",
    "x = np.array([1,3,5])\n",
    "y = np.array([2,5])\n",
    "\n",
    "# print(x)\n",
    "# print(y)\n",
    "# going to attempt to subtract y from x\n",
    "# subtraction = y - x\n",
    "# print(subtraction)"
   ]
  },
  {
   "cell_type": "markdown",
   "id": "50be188c",
   "metadata": {},
   "source": [
    "When you try to subtract the two vectors you get a ValueError that reads \"operands could not be broadcast together with shapes (2,) (3,)\". This error occurs because the vectors are not the same size, thus making it immpossible to do any math operations on them. More specifically, X has three column entries while the y has two column entries. There is a mismatch between the length of each vector."
   ]
  },
  {
   "cell_type": "code",
   "execution_count": 26,
   "id": "c4342b6e",
   "metadata": {},
   "outputs": [
    {
     "name": "stdout",
     "output_type": "stream",
     "text": [
      "[[1]\n",
      " [3]\n",
      " [5]]\n",
      "------------\n",
      "[[2 5]]\n",
      "[[-1 -4]\n",
      " [ 1 -2]\n",
      " [ 3  0]]\n"
     ]
    }
   ],
   "source": [
    "# going to try to reshape the items\n",
    "x_reshaped = x.reshape(-1,1)\n",
    "y_reshaped = y.reshape(1,-1)\n",
    "print(x_reshaped)\n",
    "print(\"------------\")\n",
    "print(y_reshaped)\n",
    "# going to do the subtraction now\n",
    "sub_reshape = x_reshaped - y_reshaped\n",
    "print(sub_reshape)\n"
   ]
  },
  {
   "cell_type": "markdown",
   "id": "611d5228",
   "metadata": {},
   "source": [
    "COME BACK AND FINISH"
   ]
  },
  {
   "cell_type": "code",
   "execution_count": null,
   "id": "2cb995cd",
   "metadata": {},
   "outputs": [],
   "source": [
    "# going to try to reshape the items\n",
    "x_reshaped_1 = x.reshape(1,-1)\n",
    "y_reshaped_1= y.reshape(1,-1)\n",
    "print(x_reshaped_1)\n",
    "print(\"------------\")\n",
    "print(y_reshaped_1)\n",
    "# going to do the subtraction now\n",
    "sub_reshape_1 = x_reshaped_1 - y_reshaped_1\n",
    "print(sub_reshape_1)\n"
   ]
  },
  {
   "cell_type": "markdown",
   "id": "13690efe",
   "metadata": {},
   "source": [
    "COME BACK AND FINISH"
   ]
  },
  {
   "cell_type": "code",
   "execution_count": null,
   "id": "f695bdd8",
   "metadata": {},
   "outputs": [],
   "source": [
    "# Write two double for-loops to replicate the results of the previous two answers\n",
    "def reshape(input_list):\n",
    "    "
   ]
  },
  {
   "cell_type": "markdown",
   "id": "8da2f390",
   "metadata": {},
   "source": [
    "## Question 3"
   ]
  },
  {
   "cell_type": "markdown",
   "id": "b29f1d35",
   "metadata": {},
   "source": [
    "3. The indicator function $\\mathbb{I}\\{ x \\le z \\}$ takes the value 0 if $x>z$ is false and 1 if $x \\le z$ is true.\n",
    "\n",
    "- For $y = 3$, plot the indicator function for any $z$\n",
    "- Explain how $ 1- \\mathbb{I}\\{ x \\le z \\} = \\mathbb{I}\\{ x > z \\}$. Drawing a plot might help, or looking at the definition that\n",
    "$$\n",
    "\\mathbb{I}\\{x \\le z\\} = \\begin{cases}\n",
    "0, &x > z \\\\\n",
    "1, &x \\le z\n",
    "\\end{cases}\n",
    "$$\n",
    "- The code below generates a random sample for different numbers of observations, $N = 3, 30, 300, 3000 $. Write a function to compute the ECDF curve for each sample, and plot your results.\n",
    "- Describe in your own words what happens to the ECDF qualitatively as the sample size $N$ increases"
   ]
  },
  {
   "cell_type": "code",
   "execution_count": null,
   "id": "0b449947",
   "metadata": {},
   "outputs": [],
   "source": []
  },
  {
   "cell_type": "code",
   "execution_count": null,
   "id": "17ad7d01",
   "metadata": {},
   "outputs": [],
   "source": [
    "import numpy as np\n",
    "import seaborn as sns\n",
    "\n",
    "rng = np.random.default_rng(100)\n",
    "\n",
    "for N in (3,30,300,3000):\n",
    "    X = rng.normal(0,1,N)\n",
    "    # ECDF plot goes here:\n"
   ]
  },
  {
   "cell_type": "markdown",
   "id": "b3a8e021",
   "metadata": {},
   "source": [
    "## Question 4"
   ]
  },
  {
   "cell_type": "markdown",
   "id": "6c8f1ebb",
   "metadata": {},
   "source": [
    "4. A **quantile** generalizes the concept of the median so that instead of 50% of the mass below and 50% above, the $q$-quantile is the value for which $q$ proportion of the data are below that value and $(1-q)$ proportion of the data are above that value. This is a concept of **order**.\n",
    "\n",
    "- Write a function that computes any quantile without using Numpy's `np.quantile`\n",
    "- Write a function that computes the **Interquartile Range (IQR)** -- the .25 quantile and the .75 quantile, which brackets 50% of the data -- and the **whiskers**: $\\pm 1.5 \\times \\text{IQR}$ from the edges of the IQR\n",
    "- Write a function that computes a five-number summary and values for a boxplot: the minimum, the .25 quantile, the median, the .75 quantile, and the maximum, and the whiskers\n",
    "- Anything outside the whiskers is an **outlier**; write a function that returns a Boolean vector indicating if the observations are outliers.\n",
    "- For a numeric variable of your choice from one of the datasets, apply your functions from above, and compare your answers with `sns.boxplot` and `df.describe`. "
   ]
  },
  {
   "cell_type": "code",
   "execution_count": null,
   "id": "c33bca75",
   "metadata": {},
   "outputs": [],
   "source": [
    "np.quantile?"
   ]
  },
  {
   "cell_type": "code",
   "execution_count": 25,
   "id": "5b7dd011",
   "metadata": {},
   "outputs": [
    {
     "name": "stdout",
     "output_type": "stream",
     "text": [
      "152.88\n",
      "252.0\n"
     ]
    }
   ],
   "source": [
    "# function that computes any quantile without using numpu np.quantile \n",
    "# the test data set will be the Iowa sales data\n",
    "iowa_test = bottle[\"Sale (Dollars)\"].values # going to convert to a list \n",
    "# print(iowa_test)\n",
    "def quantile(data, percentile): \n",
    "    \"\"\"\n",
    "    idkkkk\n",
    "    \"\"\"\n",
    "    sorted_data = sorted(data) # first need to sort the data in ascending order\n",
    "    n = len(sorted_data) # need to get how the number of elements in the list\n",
    "    index = int(n * percentile) # need to get the index\n",
    "    low = int(index) # converting to an index\n",
    "    high = min(low + 1, len(data) - 1) \n",
    "    frac = index - low\n",
    "    return data[low] * (1 - frac) + data[high] * frac\n",
    "\n",
    "# checking the output is correct \n",
    "\n",
    "quantile_actual = np.quantile(iowa_test, 0.75)\n",
    "print(quantile_actual)\n",
    "quantile_trial = quantile(iowa_test, 0.75)\n",
    "print(quantile_trial)\n",
    "# COME BACK TO THIS"
   ]
  },
  {
   "cell_type": "code",
   "execution_count": 8,
   "id": "984f2bde",
   "metadata": {},
   "outputs": [
    {
     "name": "stdout",
     "output_type": "stream",
     "text": [
      "116.32999999999998\n",
      "-137.94499999999996\n",
      "327.375\n",
      "144.36\n",
      "-108.90000000000002\n",
      "468.54\n"
     ]
    }
   ],
   "source": [
    "# Write a function that computes the **Interquartile Range (IQR)** -- the .25 quantile and the .75 quantile, w\n",
    "# hich brackets 50% of the data \n",
    "#  and the **whiskers**: $\\pm 1.5 \\times \\text{IQR}$ from the edges of the IQR\n",
    "\n",
    "def interquartile_and_whiskers(data):\n",
    "    low_quartile = quantile(data,0.25)\n",
    "    high_quartile = quantile(data,0.75)\n",
    "    iqr = high_quartile - low_quartile\n",
    "    lower_whisker = low_quartile - (1.5 * iqr)\n",
    "    higher_whisker = high_quartile + (1.5 * iqr)\n",
    "    return iqr, lower_whisker, higher_whisker\n",
    "\n",
    "# checking the output is correct\n",
    "\n",
    "iqr_actual = (np.quantile(iowa_test, 0.75)) - (np.quantile(iowa_test, 0.25))\n",
    "lower_whisker_actual = (np.quantile(iowa_test, 0.25)) - (1.5 * iqr_actual)\n",
    "higher_whisker_trial = (np.quantile(iowa_test, 0.75)) + (1.5 * iqr_actual)\n",
    "print(iqr_actual)\n",
    "print(lower_whisker_actual)\n",
    "print(higher_whisker_trial)\n",
    "\n",
    "\n",
    "iqr_trial, lower_whisker_trial, higher_whisker_trial = interquartile_and_whiskers(iowa_test)\n",
    "print(iqr_trial)\n",
    "print(lower_whisker_trial)\n",
    "print(higher_whisker_trial)"
   ]
  },
  {
   "cell_type": "code",
   "execution_count": null,
   "id": "b05e87f4",
   "metadata": {},
   "outputs": [
    {
     "name": "stdout",
     "output_type": "stream",
     "text": [
      "count    159904.000000\n",
      "mean        146.931598\n",
      "std         459.368723\n",
      "min       -1628.400000\n",
      "25%          36.550000\n",
      "50%          78.660000\n",
      "75%         152.880000\n",
      "max       36720.000000\n",
      "Name: Sale (Dollars), dtype: float64\n",
      "(-1628.4, np.float64(107.64), np.float64(110.4), np.float64(252.0), 36720.0)\n"
     ]
    }
   ],
   "source": [
    "# Write a function that computes a five-number summary and values for a boxplot: the minimum, \n",
    "# the .25 quantile, the median, the .75 quantile, and the maximum, and the whiskers\n",
    "def five_number_summary(data):\n",
    "    sorted_data = sorted(data)\n",
    "    minimum = sorted_data[0]\n",
    "\n",
    "    twentyfifthpercent_quantile = quantile(data, 0.25)\n",
    "    median = quantile(data, 0.50)\n",
    "    seventyfifthpercent_quantile = quantile(data, 0.75)\n",
    "\n",
    "    \n",
    "    maximum = sorted_data[-1]\n",
    "    iqr, lower_whisker, upper_whisker = interquartile_and_whiskers(data)\n",
    "    return minimum,twentyfifthpercent_quantile, median, seventyfifthpercent_quantile, maximum\n",
    "\n",
    "\n",
    "# checking and comparing the outputs\n",
    "\n",
    "print(bottle[\"Sale (Dollars)\"].describe())\n",
    "a = five_number_summary(bottle[\"Sale (Dollars)\"])\n",
    "print(a)\n"
   ]
  },
  {
   "cell_type": "markdown",
   "id": "99f4c407",
   "metadata": {},
   "source": [
    "5. The kernel density estimator captures the concentration of the data around various points, and is defined as\n",
    "$$\n",
    "\\hat{f}_{N,h}(z) = \\frac{1}{N} \\sum_{i=1}^N \\frac{1}{h} k \\left( \\frac{x_i - z}{h}\\right)\n",
    "$$\n",
    "where $h$ is the bandwidth and $k()$ is one of the kernel functions from the class materials (Gaussian, Epanechnikov, uniform, triangular).\n",
    "\n",
    "- Write a function that takes the bandwidth $h$ as given, and computes and plots $\\hat{f}_{N,h}(z)$, for the kernels listed in the slides\n",
    "- Write a function that computes the plug-in bandwidth\n",
    "- Use your functions to analyze some numeric variables from a dataset of your choice, using a variety of bandwidths\n",
    "- Compare bandwidths that are greater or less than the plug-in value with the results for the plug-in value. When does the KDE appear to be overfitting? Underfitting?"
   ]
  }
 ],
 "metadata": {
  "kernelspec": {
   "display_name": "base",
   "language": "python",
   "name": "python3"
  },
  "language_info": {
   "codemirror_mode": {
    "name": "ipython",
    "version": 3
   },
   "file_extension": ".py",
   "mimetype": "text/x-python",
   "name": "python",
   "nbconvert_exporter": "python",
   "pygments_lexer": "ipython3",
   "version": "3.13.5"
  }
 },
 "nbformat": 4,
 "nbformat_minor": 5
}
